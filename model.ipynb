{
  "cells": [
    {
      "cell_type": "code",
      "execution_count": 8,
      "metadata": {},
      "outputs": [
        {
          "name": "stdout",
          "output_type": "stream",
          "text": [
            "\n",
            "\u001b[1m[\u001b[0m\u001b[34;49mnotice\u001b[0m\u001b[1;39;49m]\u001b[0m\u001b[39;49m A new release of pip is available: \u001b[0m\u001b[31;49m23.3.1\u001b[0m\u001b[39;49m -> \u001b[0m\u001b[32;49m24.0\u001b[0m\n",
            "\u001b[1m[\u001b[0m\u001b[34;49mnotice\u001b[0m\u001b[1;39;49m]\u001b[0m\u001b[39;49m To update, run: \u001b[0m\u001b[32;49mpython3.10 -m pip install --upgrade pip\u001b[0m\n",
            "Note: you may need to restart the kernel to use updated packages.\n",
            "\n",
            "\u001b[1m[\u001b[0m\u001b[34;49mnotice\u001b[0m\u001b[1;39;49m]\u001b[0m\u001b[39;49m A new release of pip is available: \u001b[0m\u001b[31;49m23.3.1\u001b[0m\u001b[39;49m -> \u001b[0m\u001b[32;49m24.0\u001b[0m\n",
            "\u001b[1m[\u001b[0m\u001b[34;49mnotice\u001b[0m\u001b[1;39;49m]\u001b[0m\u001b[39;49m To update, run: \u001b[0m\u001b[32;49mpython3.10 -m pip install --upgrade pip\u001b[0m\n",
            "Note: you may need to restart the kernel to use updated packages.\n"
          ]
        }
      ],
      "source": [
        "%pip install tensorflow --quiet\n",
        "%pip install scikit-learn --quiet"
      ]
    },
    {
      "cell_type": "code",
      "execution_count": 9,
      "metadata": {
        "id": "aHi5ZsXlZ0pL"
      },
      "outputs": [],
      "source": [
        "import tensorflow as tf\n",
        "from tensorflow.keras.applications import ResNet50\n",
        "from tensorflow.keras.preprocessing.image import ImageDataGenerator\n",
        "from tensorflow.keras.models import Model\n",
        "from tensorflow.keras.layers import Dense, GlobalAveragePooling2D\n",
        "from tensorflow.keras.optimizers import Adam\n",
        "import numpy as np\n",
        "import os\n",
        "from PIL import Image, ImageOps\n",
        "from sklearn.model_selection import train_test_split\n",
        "import matplotlib.pyplot as plt"
      ]
    },
    {
      "cell_type": "code",
      "execution_count": 10,
      "metadata": {
        "id": "PxC51F8LhjgV"
      },
      "outputs": [],
      "source": [
        "path = '/Users/anoguera/Documents/GitHub/WasteRecognition-CV'"
      ]
    },
    {
      "cell_type": "code",
      "execution_count": 12,
      "metadata": {
        "id": "UANqeCj5bQqB"
      },
      "outputs": [],
      "source": [
        "def load_images_and_labels(base_dir):\n",
        "    images = []\n",
        "    labels = []\n",
        "    class_names = os.listdir(base_dir)\n",
        "    class_names.sort()  # Asegúrate de que el orden es correcto\n",
        "    label_dict = {name: index for index, name in enumerate(class_names)}\n",
        "\n",
        "    for name in class_names:\n",
        "        dir_path = os.path.join(base_dir, name)\n",
        "        for image_file in os.listdir(dir_path):\n",
        "            if image_file.lower().endswith('.jpg'):  # Procesar solo archivos JPG\n",
        "                image_path = os.path.join(dir_path, image_file)\n",
        "                image = Image.open(image_path).convert(\"RGB\")\n",
        "                image = ImageOps.fit(image, (224, 224), Image.Resampling.LANCZOS)\n",
        "                image_array = np.asarray(image)\n",
        "\n",
        "                # Normalizar la imagen directamente mientras se convierte a float\n",
        "                normalized_image_array = (image_array.astype(np.float32) / 127.5) - 1\n",
        "\n",
        "                images.append(normalized_image_array)\n",
        "                labels.append(label_dict[name])\n",
        "\n",
        "    return np.array(images), np.array(labels), class_names"
      ]
    },
    {
      "cell_type": "code",
      "execution_count": 13,
      "metadata": {
        "id": "39dLf3GQi4Ck"
      },
      "outputs": [],
      "source": [
        "images, labels, class_names = load_images_and_labels(f'{path}/RealWaste')"
      ]
    },
    {
      "cell_type": "code",
      "execution_count": 14,
      "metadata": {
        "id": "d6DPpQ4SbA9y"
      },
      "outputs": [],
      "source": [
        "base_model = ResNet50(weights='imagenet', include_top=False, input_shape=(224, 224, 3))\n",
        "\n",
        "# Congelar los pesos del modelo base para no modificarlos durante el entrenamiento\n",
        "for layer in base_model.layers:\n",
        "    layer.trainable = False\n",
        "\n",
        "# Añadir nuevas capas para la clasificación de basura\n",
        "x = GlobalAveragePooling2D()(base_model.output)\n",
        "x = Dense(1024, activation='relu')(x)\n",
        "outputs = Dense(len(class_names), activation='softmax')(x)\n",
        "\n",
        "model = Model(inputs=base_model.input, outputs=outputs)\n",
        "model.compile(optimizer=Adam(learning_rate=0.001), loss='sparse_categorical_crossentropy', metrics=['accuracy'])"
      ]
    },
    {
      "cell_type": "code",
      "execution_count": 15,
      "metadata": {
        "id": "WbjvN4oxbEjK"
      },
      "outputs": [
        {
          "name": "stdout",
          "output_type": "stream",
          "text": [
            "Epoch 1/10\n",
            "\u001b[1m476/476\u001b[0m \u001b[32m━━━━━━━━━━━━━━━━━━━━\u001b[0m\u001b[37m\u001b[0m \u001b[1m141s\u001b[0m 289ms/step - accuracy: 0.3093 - loss: 2.0407 - val_accuracy: 0.3680 - val_loss: 1.7054\n",
            "Epoch 2/10\n",
            "\u001b[1m476/476\u001b[0m \u001b[32m━━━━━━━━━━━━━━━━━━━━\u001b[0m\u001b[37m\u001b[0m \u001b[1m142s\u001b[0m 298ms/step - accuracy: 0.4176 - loss: 1.6252 - val_accuracy: 0.3880 - val_loss: 1.6518\n",
            "Epoch 3/10\n",
            "\u001b[1m476/476\u001b[0m \u001b[32m━━━━━━━━━━━━━━━━━━━━\u001b[0m\u001b[37m\u001b[0m \u001b[1m141s\u001b[0m 296ms/step - accuracy: 0.4048 - loss: 1.5736 - val_accuracy: 0.4374 - val_loss: 1.5731\n",
            "Epoch 4/10\n",
            "\u001b[1m476/476\u001b[0m \u001b[32m━━━━━━━━━━━━━━━━━━━━\u001b[0m\u001b[37m\u001b[0m \u001b[1m141s\u001b[0m 296ms/step - accuracy: 0.4587 - loss: 1.4775 - val_accuracy: 0.4395 - val_loss: 1.5104\n",
            "Epoch 5/10\n",
            "\u001b[1m476/476\u001b[0m \u001b[32m━━━━━━━━━━━━━━━━━━━━\u001b[0m\u001b[37m\u001b[0m \u001b[1m145s\u001b[0m 304ms/step - accuracy: 0.4651 - loss: 1.4279 - val_accuracy: 0.4448 - val_loss: 1.4830\n",
            "Epoch 6/10\n",
            "\u001b[1m476/476\u001b[0m \u001b[32m━━━━━━━━━━━━━━━━━━━━\u001b[0m\u001b[37m\u001b[0m \u001b[1m144s\u001b[0m 302ms/step - accuracy: 0.4729 - loss: 1.3857 - val_accuracy: 0.4648 - val_loss: 1.4655\n",
            "Epoch 7/10\n",
            "\u001b[1m476/476\u001b[0m \u001b[32m━━━━━━━━━━━━━━━━━━━━\u001b[0m\u001b[37m\u001b[0m \u001b[1m144s\u001b[0m 302ms/step - accuracy: 0.5031 - loss: 1.3075 - val_accuracy: 0.4627 - val_loss: 1.4756\n",
            "Epoch 8/10\n",
            "\u001b[1m476/476\u001b[0m \u001b[32m━━━━━━━━━━━━━━━━━━━━\u001b[0m\u001b[37m\u001b[0m \u001b[1m144s\u001b[0m 303ms/step - accuracy: 0.5300 - loss: 1.2859 - val_accuracy: 0.4690 - val_loss: 1.4356\n",
            "Epoch 9/10\n",
            "\u001b[1m476/476\u001b[0m \u001b[32m━━━━━━━━━━━━━━━━━━━━\u001b[0m\u001b[37m\u001b[0m \u001b[1m145s\u001b[0m 305ms/step - accuracy: 0.5073 - loss: 1.3189 - val_accuracy: 0.5016 - val_loss: 1.3916\n",
            "Epoch 10/10\n",
            "\u001b[1m476/476\u001b[0m \u001b[32m━━━━━━━━━━━━━━━━━━━━\u001b[0m\u001b[37m\u001b[0m \u001b[1m147s\u001b[0m 308ms/step - accuracy: 0.5221 - loss: 1.2830 - val_accuracy: 0.4816 - val_loss: 1.4710\n"
          ]
        }
      ],
      "source": [
        "X_train, X_test, y_train, y_test = train_test_split(images, labels, test_size=0.2, random_state=42)\n",
        "\n",
        "history = model.fit(X_train, y_train, epochs=10, validation_data=(X_test, y_test), batch_size=8)"
      ]
    },
    {
      "cell_type": "code",
      "execution_count": 20,
      "metadata": {},
      "outputs": [
        {
          "name": "stdout",
          "output_type": "stream",
          "text": [
            "Epoch 1/50\n",
            "\u001b[1m476/476\u001b[0m \u001b[32m━━━━━━━━━━━━━━━━━━━━\u001b[0m\u001b[37m\u001b[0m \u001b[1m147s\u001b[0m 308ms/step - accuracy: 0.6131 - loss: 1.0740 - val_accuracy: 0.5100 - val_loss: 1.4313\n",
            "Epoch 2/50\n",
            "\u001b[1m476/476\u001b[0m \u001b[32m━━━━━━━━━━━━━━━━━━━━\u001b[0m\u001b[37m\u001b[0m \u001b[1m144s\u001b[0m 302ms/step - accuracy: 0.6291 - loss: 1.0203 - val_accuracy: 0.5195 - val_loss: 1.3781\n",
            "Epoch 3/50\n",
            "\u001b[1m476/476\u001b[0m \u001b[32m━━━━━━━━━━━━━━━━━━━━\u001b[0m\u001b[37m\u001b[0m \u001b[1m144s\u001b[0m 304ms/step - accuracy: 0.6383 - loss: 0.9988 - val_accuracy: 0.5195 - val_loss: 1.4340\n",
            "Epoch 4/50\n",
            "\u001b[1m476/476\u001b[0m \u001b[32m━━━━━━━━━━━━━━━━━━━━\u001b[0m\u001b[37m\u001b[0m \u001b[1m145s\u001b[0m 304ms/step - accuracy: 0.6229 - loss: 1.0307 - val_accuracy: 0.5047 - val_loss: 1.4342\n",
            "Epoch 5/50\n",
            "\u001b[1m476/476\u001b[0m \u001b[32m━━━━━━━━━━━━━━━━━━━━\u001b[0m\u001b[37m\u001b[0m \u001b[1m220s\u001b[0m 462ms/step - accuracy: 0.6790 - loss: 0.9153 - val_accuracy: 0.5436 - val_loss: 1.3992\n",
            "Epoch 6/50\n",
            "\u001b[1m476/476\u001b[0m \u001b[32m━━━━━━━━━━━━━━━━━━━━\u001b[0m\u001b[37m\u001b[0m \u001b[1m257s\u001b[0m 540ms/step - accuracy: 0.6593 - loss: 0.9311 - val_accuracy: 0.5195 - val_loss: 1.4451\n",
            "Epoch 7/50\n",
            "\u001b[1m476/476\u001b[0m \u001b[32m━━━━━━━━━━━━━━━━━━━━\u001b[0m\u001b[37m\u001b[0m \u001b[1m260s\u001b[0m 546ms/step - accuracy: 0.6605 - loss: 0.9628 - val_accuracy: 0.5079 - val_loss: 1.4650\n",
            "Epoch 8/50\n",
            "\u001b[1m476/476\u001b[0m \u001b[32m━━━━━━━━━━━━━━━━━━━━\u001b[0m\u001b[37m\u001b[0m \u001b[1m250s\u001b[0m 526ms/step - accuracy: 0.6725 - loss: 0.9200 - val_accuracy: 0.5258 - val_loss: 1.4614\n",
            "Epoch 9/50\n",
            "\u001b[1m476/476\u001b[0m \u001b[32m━━━━━━━━━━━━━━━━━━━━\u001b[0m\u001b[37m\u001b[0m \u001b[1m250s\u001b[0m 525ms/step - accuracy: 0.6620 - loss: 0.9167 - val_accuracy: 0.5310 - val_loss: 1.4802\n",
            "Epoch 10/50\n",
            "\u001b[1m476/476\u001b[0m \u001b[32m━━━━━━━━━━━━━━━━━━━━\u001b[0m\u001b[37m\u001b[0m \u001b[1m249s\u001b[0m 523ms/step - accuracy: 0.6995 - loss: 0.8579 - val_accuracy: 0.5310 - val_loss: 1.4556\n",
            "Epoch 11/50\n",
            "\u001b[1m476/476\u001b[0m \u001b[32m━━━━━━━━━━━━━━━━━━━━\u001b[0m\u001b[37m\u001b[0m \u001b[1m248s\u001b[0m 521ms/step - accuracy: 0.6899 - loss: 0.8873 - val_accuracy: 0.5279 - val_loss: 1.5007\n",
            "Epoch 12/50\n",
            "\u001b[1m476/476\u001b[0m \u001b[32m━━━━━━━━━━━━━━━━━━━━\u001b[0m\u001b[37m\u001b[0m \u001b[1m245s\u001b[0m 515ms/step - accuracy: 0.6686 - loss: 0.9153 - val_accuracy: 0.5352 - val_loss: 1.4899\n",
            "Epoch 13/50\n",
            "\u001b[1m476/476\u001b[0m \u001b[32m━━━━━━━━━━━━━━━━━━━━\u001b[0m\u001b[37m\u001b[0m \u001b[1m228s\u001b[0m 480ms/step - accuracy: 0.6876 - loss: 0.8517 - val_accuracy: 0.5373 - val_loss: 1.5001\n",
            "Epoch 14/50\n",
            "\u001b[1m476/476\u001b[0m \u001b[32m━━━━━━━━━━━━━━━━━━━━\u001b[0m\u001b[37m\u001b[0m \u001b[1m221s\u001b[0m 464ms/step - accuracy: 0.7177 - loss: 0.8158 - val_accuracy: 0.5499 - val_loss: 1.4693\n",
            "Epoch 15/50\n",
            "\u001b[1m476/476\u001b[0m \u001b[32m━━━━━━━━━━━━━━━━━━━━\u001b[0m\u001b[37m\u001b[0m \u001b[1m225s\u001b[0m 473ms/step - accuracy: 0.7004 - loss: 0.8310 - val_accuracy: 0.5384 - val_loss: 1.4937\n",
            "Epoch 16/50\n",
            "\u001b[1m476/476\u001b[0m \u001b[32m━━━━━━━━━━━━━━━━━━━━\u001b[0m\u001b[37m\u001b[0m \u001b[1m231s\u001b[0m 485ms/step - accuracy: 0.7195 - loss: 0.8269 - val_accuracy: 0.5468 - val_loss: 1.5487\n",
            "Epoch 17/50\n",
            "\u001b[1m476/476\u001b[0m \u001b[32m━━━━━━━━━━━━━━━━━━━━\u001b[0m\u001b[37m\u001b[0m \u001b[1m236s\u001b[0m 496ms/step - accuracy: 0.7112 - loss: 0.8003 - val_accuracy: 0.4921 - val_loss: 1.6898\n",
            "Epoch 18/50\n",
            "\u001b[1m476/476\u001b[0m \u001b[32m━━━━━━━━━━━━━━━━━━━━\u001b[0m\u001b[37m\u001b[0m \u001b[1m245s\u001b[0m 515ms/step - accuracy: 0.7173 - loss: 0.7982 - val_accuracy: 0.5289 - val_loss: 1.6287\n",
            "Epoch 19/50\n",
            "\u001b[1m476/476\u001b[0m \u001b[32m━━━━━━━━━━━━━━━━━━━━\u001b[0m\u001b[37m\u001b[0m \u001b[1m238s\u001b[0m 499ms/step - accuracy: 0.7174 - loss: 0.8086 - val_accuracy: 0.5384 - val_loss: 1.5943\n",
            "Epoch 20/50\n",
            "\u001b[1m476/476\u001b[0m \u001b[32m━━━━━━━━━━━━━━━━━━━━\u001b[0m\u001b[37m\u001b[0m \u001b[1m234s\u001b[0m 492ms/step - accuracy: 0.7128 - loss: 0.8162 - val_accuracy: 0.5405 - val_loss: 1.5363\n",
            "Epoch 21/50\n",
            "\u001b[1m476/476\u001b[0m \u001b[32m━━━━━━━━━━━━━━━━━━━━\u001b[0m\u001b[37m\u001b[0m \u001b[1m233s\u001b[0m 489ms/step - accuracy: 0.7062 - loss: 0.8162 - val_accuracy: 0.4984 - val_loss: 1.5953\n",
            "Epoch 22/50\n",
            "\u001b[1m476/476\u001b[0m \u001b[32m━━━━━━━━━━━━━━━━━━━━\u001b[0m\u001b[37m\u001b[0m \u001b[1m229s\u001b[0m 480ms/step - accuracy: 0.6955 - loss: 0.8043 - val_accuracy: 0.5489 - val_loss: 1.5132\n",
            "Epoch 23/50\n",
            "\u001b[1m476/476\u001b[0m \u001b[32m━━━━━━━━━━━━━━━━━━━━\u001b[0m\u001b[37m\u001b[0m \u001b[1m234s\u001b[0m 491ms/step - accuracy: 0.7362 - loss: 0.7278 - val_accuracy: 0.5237 - val_loss: 1.6304\n",
            "Epoch 24/50\n",
            "\u001b[1m476/476\u001b[0m \u001b[32m━━━━━━━━━━━━━━━━━━━━\u001b[0m\u001b[37m\u001b[0m \u001b[1m234s\u001b[0m 492ms/step - accuracy: 0.7371 - loss: 0.7508 - val_accuracy: 0.5258 - val_loss: 1.6388\n",
            "Epoch 25/50\n",
            "\u001b[1m476/476\u001b[0m \u001b[32m━━━━━━━━━━━━━━━━━━━━\u001b[0m\u001b[37m\u001b[0m \u001b[1m245s\u001b[0m 514ms/step - accuracy: 0.7438 - loss: 0.7445 - val_accuracy: 0.5352 - val_loss: 1.6115\n",
            "Epoch 26/50\n",
            "\u001b[1m 14/476\u001b[0m \u001b[37m━━━━━━━━━━━━━━━━━━━━\u001b[0m \u001b[1m3:31\u001b[0m 458ms/step - accuracy: 0.7091 - loss: 0.7396"
          ]
        }
      ],
      "source": [
        "history = model.fit(X_train, y_train, epochs=50, validation_data=(X_test, y_test), batch_size=8)"
      ]
    },
    {
      "cell_type": "code",
      "execution_count": 19,
      "metadata": {
        "id": "3ykJQEVvkNZI"
      },
      "outputs": [
        {
          "name": "stdout",
          "output_type": "stream",
          "text": [
            "30/30 - 22s - 740ms/step - accuracy: 0.5079 - loss: 1.4750\n",
            "Test accuracy: 0.5078864097595215\n"
          ]
        },
        {
          "data": {
            "image/png": "[encoded data removed]",
            "text/plain": [
              "<Figure size 640x480 with 1 Axes>"
            ]
          },
          "metadata": {},
          "output_type": "display_data"
        }
      ],
      "source": [
        "plt.plot(history.history['accuracy'], label='accuracy')\n",
        "plt.plot(history.history['val_accuracy'], label='val_accuracy')\n",
        "plt.xlabel('Epoch')\n",
        "plt.ylabel('Accuracy')\n",
        "plt.ylim([0, 1])\n",
        "plt.legend(loc='lower right')\n",
        "\n",
        "test_loss, test_acc = model.evaluate(X_test, y_test, verbose=2)\n",
        "print(f\"Test accuracy: {test_acc}\")"
      ]
    },
    {
      "cell_type": "code",
      "execution_count": null,
      "metadata": {},
      "outputs": [],
      "source": [
        "X_test, y_test, class_names = load_images_and_labels(f'{path}/Test2')\n"
      ]
    }
  ],
  "metadata": {
    "colab": {
      "provenance": []
    },
    "kernelspec": {
      "display_name": "Python 3",
      "name": "python3"
    },
    "language_info": {
      "codemirror_mode": {
        "name": "ipython",
        "version": 3
      },
      "file_extension": ".py",
      "mimetype": "text/x-python",
      "name": "python",
      "nbconvert_exporter": "python",
      "pygments_lexer": "ipython3",
      "version": "3.10.13"
    }
  },
  "nbformat": 4,
  "nbformat_minor": 0
}
